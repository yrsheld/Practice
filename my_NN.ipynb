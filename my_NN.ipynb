{
  "nbformat": 4,
  "nbformat_minor": 0,
  "metadata": {
    "colab": {
      "provenance": [],
      "authorship_tag": "ABX9TyP3h2zpiIzejehZFWYv0ExU",
      "include_colab_link": true
    },
    "kernelspec": {
      "name": "python3",
      "display_name": "Python 3"
    },
    "language_info": {
      "name": "python"
    }
  },
  "cells": [
    {
      "cell_type": "markdown",
      "metadata": {
        "id": "view-in-github",
        "colab_type": "text"
      },
      "source": [
        "<a href=\"https://colab.research.google.com/github/yrsheld/Practice/blob/main/my_NN.ipynb\" target=\"_parent\"><img src=\"https://colab.research.google.com/assets/colab-badge.svg\" alt=\"Open In Colab\"/></a>"
      ]
    },
    {
      "cell_type": "markdown",
      "source": [
        "# Neural Network"
      ],
      "metadata": {
        "id": "a8frR6RiTKdw"
      }
    },
    {
      "cell_type": "code",
      "execution_count": 1,
      "metadata": {
        "colab": {
          "base_uri": "https://localhost:8080/"
        },
        "id": "V_Rjk0QAQXrh",
        "outputId": "169ee116-61aa-4be4-f7ca-09c7c02e5503"
      },
      "outputs": [
        {
          "output_type": "stream",
          "name": "stdout",
          "text": [
            "Colab only includes TensorFlow 2.x; %tensorflow_version has no effect.\n"
          ]
        }
      ],
      "source": [
        "%tensorflow_version 2.x\n",
        "\n",
        "import tensorflow as tf\n",
        "from tensorflow import keras\n",
        "\n",
        "import numpy as np\n",
        "import matplotlib.pyplot as plt"
      ]
    },
    {
      "cell_type": "markdown",
      "source": [
        "### Dataset\n",
        "Use the MNIST Fashion Dataset from keras.\n",
        "\n",
        "Includes 60,000 images for training and 10,000 images for validation/testing."
      ],
      "metadata": {
        "id": "Mu40hdd6TH9R"
      }
    },
    {
      "cell_type": "code",
      "source": [
        "fashion_mnist = keras.datasets.fashion_mnist # load dataset\n",
        "(train_images, train_labels), (test_images, test_labels) = fashion_mnist.load_data()"
      ],
      "metadata": {
        "colab": {
          "base_uri": "https://localhost:8080/"
        },
        "id": "VqGsnXRyTGws",
        "outputId": "1d66400f-22ee-4a51-ea82-8d5b508ee6fd"
      },
      "execution_count": 5,
      "outputs": [
        {
          "output_type": "stream",
          "name": "stdout",
          "text": [
            "Downloading data from https://storage.googleapis.com/tensorflow/tf-keras-datasets/train-labels-idx1-ubyte.gz\n",
            "29515/29515 [==============================] - 0s 0us/step\n",
            "Downloading data from https://storage.googleapis.com/tensorflow/tf-keras-datasets/train-images-idx3-ubyte.gz\n",
            "26421880/26421880 [==============================] - 0s 0us/step\n",
            "Downloading data from https://storage.googleapis.com/tensorflow/tf-keras-datasets/t10k-labels-idx1-ubyte.gz\n",
            "5148/5148 [==============================] - 0s 0us/step\n",
            "Downloading data from https://storage.googleapis.com/tensorflow/tf-keras-datasets/t10k-images-idx3-ubyte.gz\n",
            "4422102/4422102 [==============================] - 0s 0us/step\n"
          ]
        }
      ]
    },
    {
      "cell_type": "code",
      "source": [
        "train_images.shape"
      ],
      "metadata": {
        "colab": {
          "base_uri": "https://localhost:8080/"
        },
        "id": "VXE1er3UTjAi",
        "outputId": "a46173a6-b09e-4cd6-dea9-46714ee663a7"
      },
      "execution_count": 6,
      "outputs": [
        {
          "output_type": "execute_result",
          "data": {
            "text/plain": [
              "(60000, 28, 28)"
            ]
          },
          "metadata": {},
          "execution_count": 6
        }
      ]
    },
    {
      "cell_type": "code",
      "source": [
        "train_images[0, 23, 23]  # look at one pixel"
      ],
      "metadata": {
        "colab": {
          "base_uri": "https://localhost:8080/"
        },
        "id": "9Iy8NHBWTst5",
        "outputId": "5186b3ba-3fb1-4b8c-8b07-19c8e3c0f356"
      },
      "execution_count": 7,
      "outputs": [
        {
          "output_type": "execute_result",
          "data": {
            "text/plain": [
              "194"
            ]
          },
          "metadata": {},
          "execution_count": 7
        }
      ]
    },
    {
      "cell_type": "markdown",
      "source": [
        "We can see that our pixel values are between 0(black)~255(white).\n",
        "\n",
        "This means we have a grayscale image."
      ],
      "metadata": {
        "id": "X8nujSIET0H9"
      }
    },
    {
      "cell_type": "code",
      "source": [
        "train_labels[:10]"
      ],
      "metadata": {
        "colab": {
          "base_uri": "https://localhost:8080/"
        },
        "id": "Jyc2S5OWTvIX",
        "outputId": "fb35b88c-79ba-4f23-ff1f-3231359514f2"
      },
      "execution_count": 8,
      "outputs": [
        {
          "output_type": "execute_result",
          "data": {
            "text/plain": [
              "array([9, 0, 0, 3, 0, 2, 7, 2, 5, 5], dtype=uint8)"
            ]
          },
          "metadata": {},
          "execution_count": 8
        }
      ]
    },
    {
      "cell_type": "markdown",
      "source": [
        "We have 10 training labels (i.e, 10 classes)"
      ],
      "metadata": {
        "id": "eEMopJGmT-Vt"
      }
    },
    {
      "cell_type": "code",
      "source": [
        "class_names = ['T-shirt/top', 'Trouser', 'Pullover', 'Dress', 'Coat',\n",
        "               'Sandal', 'Shirt', 'Sneaker', 'Bag', 'Ankle boot']"
      ],
      "metadata": {
        "id": "KTjbFkceT8mc"
      },
      "execution_count": 9,
      "outputs": []
    },
    {
      "cell_type": "code",
      "source": [
        "plt.figure()\n",
        "plt.imshow(train_images[8])\n",
        "plt.colorbar()\n",
        "plt.show()"
      ],
      "metadata": {
        "colab": {
          "base_uri": "https://localhost:8080/",
          "height": 430
        },
        "id": "71njB3bfUFwx",
        "outputId": "bd3c13dd-2645-4009-f4a3-5388da3ed792"
      },
      "execution_count": 16,
      "outputs": [
        {
          "output_type": "display_data",
          "data": {
            "text/plain": [
              "<Figure size 640x480 with 2 Axes>"
            ],
            "image/png": "[encoded data removed]"
          },
          "metadata": {}
        }
      ]
    },
    {
      "cell_type": "markdown",
      "source": [
        "### Data Preprocessing\n",
        "Scale grayscale pixel values (0~200) to 0~1.\n",
        "\n",
        "Typically, it would be nice to rescale your input values in that range, say -1 to 1. Becuase NN starts with random weights and biases in between 0~1. If you have large input values and small weights, than it would create a mismatch, making it harder to update the values."
      ],
      "metadata": {
        "id": "NgGh59nAUXk-"
      }
    },
    {
      "cell_type": "code",
      "source": [
        "# Rescale from 0~255 to 0~1\n",
        "train_images = train_images / 255.0\n",
        "test_images = test_images / 255.0"
      ],
      "metadata": {
        "id": "Y5TIwtdoUNHi"
      },
      "execution_count": 17,
      "outputs": []
    },
    {
      "cell_type": "markdown",
      "source": [
        "### Build model\n",
        "We would build a feed-forward NN\n",
        "\n",
        "The output layer would be 10 neurons, each with value of the proability of belonging to that class. So we use softmax activation there, in order to compute the probabiliity distribution of each class."
      ],
      "metadata": {
        "id": "qYAhHPhpVF91"
      }
    },
    {
      "cell_type": "code",
      "source": [
        "model = keras.Sequential([\n",
        "    keras.layers.Flatten(input_shape=(28,28)),     # input layer  (784 neurons)\n",
        "    keras.layers.Dense(127, activation='relu'),    # hidden layer\n",
        "    keras.layers.Dense(10, activation='softmax')   # output layer\n",
        "])"
      ],
      "metadata": {
        "id": "-ykBm_UhVDxb"
      },
      "execution_count": 18,
      "outputs": []
    },
    {
      "cell_type": "markdown",
      "source": [
        "### Compile model\n",
        "\n",
        "Define optimizer, loss, and metrics here."
      ],
      "metadata": {
        "id": "w6a4YIFhV57Y"
      }
    },
    {
      "cell_type": "code",
      "source": [
        "model.compile(optimizer='adam',\n",
        "              loss='sparse_categorical_crossentropy', \n",
        "              metrics=['accuracy'])    # the output we want to see"
      ],
      "metadata": {
        "id": "SwQ6IjyDV4Ig"
      },
      "execution_count": 19,
      "outputs": []
    },
    {
      "cell_type": "markdown",
      "source": [
        "### Training the model\n",
        "\n",
        "In the following, we would do the training, evaluation, testing, just as before. But you can see it is much simple here, because keras has handled everything for us. We no longer need to define the input function.\n",
        "\n",
        "* Recall in `tf.estimator.LinearClassifier` & `tf.estimator.DNNClassifier`, we need to pass in the input functions defined by ourselves.\n",
        "```\n",
        "est.train(train_input_fn),\n",
        "est.evaluate(eval_input_fn),\n",
        "est.predict(eval_input_fn),\n",
        "```\n",
        "\n",
        "* Whereas here in keras model, we simply pass in the data and labels.\n",
        "```\n",
        "model.fit(train_data, train_labels, epoch=...)\n",
        "model.evaluate(test_data, test_labels, verbose...)\n",
        "model.predict(test_images)\n",
        "```\n",
        "\n",
        "\n"
      ],
      "metadata": {
        "id": "jfS9B9GdWO6x"
      }
    },
    {
      "cell_type": "code",
      "source": [
        "model.fit(train_images, train_labels, epochs=10)"
      ],
      "metadata": {
        "colab": {
          "base_uri": "https://localhost:8080/"
        },
        "id": "Babmr1OSWN8q",
        "outputId": "e1710dbc-6e67-4c6c-f5c1-00d9ff0c5d7e"
      },
      "execution_count": 20,
      "outputs": [
        {
          "output_type": "stream",
          "name": "stdout",
          "text": [
            "Epoch 1/10\n",
            "1875/1875 [==============================] - 5s 2ms/step - loss: 0.4945 - accuracy: 0.8270\n",
            "Epoch 2/10\n",
            "1875/1875 [==============================] - 6s 3ms/step - loss: 0.3781 - accuracy: 0.8641\n",
            "Epoch 3/10\n",
            "1875/1875 [==============================] - 5s 2ms/step - loss: 0.3367 - accuracy: 0.8785\n",
            "Epoch 4/10\n",
            "1875/1875 [==============================] - 5s 3ms/step - loss: 0.3129 - accuracy: 0.8845\n",
            "Epoch 5/10\n",
            "1875/1875 [==============================] - 4s 2ms/step - loss: 0.2949 - accuracy: 0.8914\n",
            "Epoch 6/10\n",
            "1875/1875 [==============================] - 4s 2ms/step - loss: 0.2797 - accuracy: 0.8969\n",
            "Epoch 7/10\n",
            "1875/1875 [==============================] - 5s 2ms/step - loss: 0.2687 - accuracy: 0.8992\n",
            "Epoch 8/10\n",
            "1875/1875 [==============================] - 4s 2ms/step - loss: 0.2571 - accuracy: 0.9038\n",
            "Epoch 9/10\n",
            "1875/1875 [==============================] - 6s 3ms/step - loss: 0.2479 - accuracy: 0.9064\n",
            "Epoch 10/10\n",
            "1875/1875 [==============================] - 8s 4ms/step - loss: 0.2393 - accuracy: 0.9104\n"
          ]
        },
        {
          "output_type": "execute_result",
          "data": {
            "text/plain": [
              "<keras.callbacks.History at 0x7f591d74dc40>"
            ]
          },
          "metadata": {},
          "execution_count": 20
        }
      ]
    },
    {
      "cell_type": "markdown",
      "source": [
        "### Evaluate the model"
      ],
      "metadata": {
        "id": "NEKnBByOWceb"
      }
    },
    {
      "cell_type": "code",
      "source": [
        "# result = [test_loss, test_accuracy]\n",
        "result = model.evaluate(test_images, test_labels, verbose=1)  #verbose=1: progress bar\n",
        "\n",
        "print('Test loss', result[0])\n",
        "print('Test accuracy', result[1])"
      ],
      "metadata": {
        "colab": {
          "base_uri": "https://localhost:8080/"
        },
        "id": "rmZI7rx5WbOW",
        "outputId": "2eec38f2-4be9-4241-ae2c-fe212a7b9732"
      },
      "execution_count": 24,
      "outputs": [
        {
          "output_type": "stream",
          "name": "stdout",
          "text": [
            "313/313 [==============================] - 0s 1ms/step - loss: 0.3300 - accuracy: 0.8854\n",
            "Test loss 0.3300052583217621\n",
            "Test accuracy 0.8853999972343445\n"
          ]
        }
      ]
    },
    {
      "cell_type": "code",
      "source": [
        "result"
      ],
      "metadata": {
        "colab": {
          "base_uri": "https://localhost:8080/"
        },
        "id": "ZMYfmJv9WyLv",
        "outputId": "ceba450b-ea75-4c3e-9e1c-b2cca99b71b0"
      },
      "execution_count": 23,
      "outputs": [
        {
          "output_type": "execute_result",
          "data": {
            "text/plain": [
              "[0.3300052583217621, 0.8853999972343445]"
            ]
          },
          "metadata": {},
          "execution_count": 23
        }
      ]
    },
    {
      "cell_type": "markdown",
      "source": [
        "### Predictions"
      ],
      "metadata": {
        "id": "lSo-Re_IXIqS"
      }
    },
    {
      "cell_type": "code",
      "source": [
        "# a list of predictions for each data\n",
        "predictions = model.predict(test_images)"
      ],
      "metadata": {
        "colab": {
          "base_uri": "https://localhost:8080/"
        },
        "id": "vH8OcKvvW0xc",
        "outputId": "725d5663-14ef-45ad-9542-f4983e5166b3"
      },
      "execution_count": 32,
      "outputs": [
        {
          "output_type": "stream",
          "name": "stdout",
          "text": [
            "313/313 [==============================] - 0s 1ms/step\n"
          ]
        }
      ]
    },
    {
      "cell_type": "code",
      "source": [
        "len(predictions)  # prediction on all test images (10000)"
      ],
      "metadata": {
        "colab": {
          "base_uri": "https://localhost:8080/"
        },
        "id": "4JJDYVg8XM4V",
        "outputId": "9553f411-8921-4d7a-8a7a-28dff77a7461"
      },
      "execution_count": 26,
      "outputs": [
        {
          "output_type": "execute_result",
          "data": {
            "text/plain": [
              "10000"
            ]
          },
          "metadata": {},
          "execution_count": 26
        }
      ]
    },
    {
      "cell_type": "code",
      "source": [
        "predictions[0]"
      ],
      "metadata": {
        "colab": {
          "base_uri": "https://localhost:8080/"
        },
        "id": "JOUoiCWKXOWK",
        "outputId": "5c05f359-55ab-4ffe-b34d-012b995cf018"
      },
      "execution_count": 33,
      "outputs": [
        {
          "output_type": "execute_result",
          "data": {
            "text/plain": [
              "array([1.6165370e-07, 2.4340532e-10, 3.1153579e-06, 9.0303390e-12,\n",
              "       1.4137117e-07, 1.9632677e-04, 2.4356495e-07, 1.2082568e-03,\n",
              "       2.4197107e-08, 9.9859172e-01], dtype=float32)"
            ]
          },
          "metadata": {},
          "execution_count": 33
        }
      ]
    },
    {
      "cell_type": "code",
      "source": [
        "data_id = 5\n",
        "predicted_class = np.argmax(predictions[data_id])\n",
        "print(\"Predicted class:\", predicted_class)\n",
        "print(\"Actual label:\", test_labels[data_id])"
      ],
      "metadata": {
        "colab": {
          "base_uri": "https://localhost:8080/"
        },
        "id": "5LfhmTsbXUhL",
        "outputId": "a4cf7a4e-426d-4da0-cb6d-bf4d74837ae6"
      },
      "execution_count": 37,
      "outputs": [
        {
          "output_type": "stream",
          "name": "stdout",
          "text": [
            "Predicted class: 1\n",
            "Actual label: 1\n"
          ]
        }
      ]
    }
  ]
}