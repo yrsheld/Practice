{
  "nbformat": 4,
  "nbformat_minor": 0,
  "metadata": {
    "colab": {
      "provenance": [],
      "toc_visible": true,
      "authorship_tag": "ABX9TyP/5yEJot2KI5s0vKdwGHgM",
      "include_colab_link": true
    },
    "kernelspec": {
      "name": "python3",
      "display_name": "Python 3"
    },
    "language_info": {
      "name": "python"
    }
  },
  "cells": [
    {
      "cell_type": "markdown",
      "metadata": {
        "id": "view-in-github",
        "colab_type": "text"
      },
      "source": [
        "<a href=\"https://colab.research.google.com/github/yrsheld/Practice/blob/main/my_CNN.ipynb\" target=\"_parent\"><img src=\"https://colab.research.google.com/assets/colab-badge.svg\" alt=\"Open In Colab\"/></a>"
      ]
    },
    {
      "cell_type": "markdown",
      "source": [
        "# Convolutional Network"
      ],
      "metadata": {
        "id": "TyZxKm0jbr6S"
      }
    },
    {
      "cell_type": "markdown",
      "source": [
        "## Import and Setup"
      ],
      "metadata": {
        "id": "gm-6xo6pcMDq"
      }
    },
    {
      "cell_type": "code",
      "source": [
        "%tensorflow_version 2.x  # this line is not required unless you are in a notebook\n",
        "import tensorflow as tf\n",
        "\n",
        "from tensorflow.keras import datasets, layers, models\n",
        "import matplotlib.pyplot as plt"
      ],
      "metadata": {
        "colab": {
          "base_uri": "https://localhost:8080/"
        },
        "id": "uqjL8R1McKY-",
        "outputId": "5464f976-d605-418e-b5a2-8ab43713b658"
      },
      "execution_count": 1,
      "outputs": [
        {
          "output_type": "stream",
          "name": "stdout",
          "text": [
            "Colab only includes TensorFlow 2.x; %tensorflow_version has no effect.\n"
          ]
        }
      ]
    },
    {
      "cell_type": "markdown",
      "source": [
        "## Dataset\n",
        "CIFAR Image Dataset, built into tensorflow. Out task is to classifiy 10 everyday objects. The data set contains 60,000 32x32 color images with 6000 images of each class."
      ],
      "metadata": {
        "id": "1fhaiWcrbzin"
      }
    },
    {
      "cell_type": "code",
      "execution_count": 19,
      "metadata": {
        "id": "GgUIB9dcbnqx"
      },
      "outputs": [],
      "source": [
        "(train_images, train_labels), (test_images, test_labels) = datasets.cifar10.load_data()"
      ]
    },
    {
      "cell_type": "markdown",
      "source": [
        "## Preprocessing"
      ],
      "metadata": {
        "id": "i6Au-ASlcn54"
      }
    },
    {
      "cell_type": "code",
      "source": [
        "# Rescaling value from [0, 255] to [0,1]\n",
        "rescale = tf.keras.Sequential([\n",
        "    layers.Rescaling(1./255)      # normalize to [0, 1]\n",
        "])\n",
        "\n",
        "train_images, test_images = rescale(train_images), rescale(test_images)\n",
        "\n",
        "# For these kind of simple rescaling, we could also do it manually\n",
        "# Normalize pixel values between 0 and 1\n",
        "# train_images, test_images = train_images / 255.0, test_images / 255.0"
      ],
      "metadata": {
        "id": "gSKvIEXujC_L"
      },
      "execution_count": 20,
      "outputs": []
    },
    {
      "cell_type": "code",
      "source": [
        "train_images[0].shape   # 32x32 RGB image"
      ],
      "metadata": {
        "colab": {
          "base_uri": "https://localhost:8080/"
        },
        "id": "eD_4t9whcwpy",
        "outputId": "176277b9-74a7-4f6b-df3f-acb353d665a1"
      },
      "execution_count": 21,
      "outputs": [
        {
          "output_type": "execute_result",
          "data": {
            "text/plain": [
              "TensorShape([32, 32, 3])"
            ]
          },
          "metadata": {},
          "execution_count": 21
        }
      ]
    },
    {
      "cell_type": "code",
      "source": [
        "class_names = ['airplane', 'automobile', 'bird', 'cat', 'deer',\n",
        "               'dog', 'frog', 'horse', 'ship', 'truck']"
      ],
      "metadata": {
        "id": "Rkp3ITljc5-r"
      },
      "execution_count": 22,
      "outputs": []
    },
    {
      "cell_type": "code",
      "source": [
        "# Look at one image\n",
        "IMG_INDEX = 5\n",
        "\n",
        "plt.imshow(train_images[IMG_INDEX], cmap = plt.cm.binary)\n",
        "plt.xlabel(class_names[train_labels[IMG_INDEX][0]])\n",
        "plt.show()"
      ],
      "metadata": {
        "colab": {
          "base_uri": "https://localhost:8080/",
          "height": 449
        },
        "id": "D-N3mpgAdCbb",
        "outputId": "dfcc3a41-a917-419c-f5cf-6f9bb1a62adc"
      },
      "execution_count": 23,
      "outputs": [
        {
          "output_type": "display_data",
          "data": {
            "text/plain": [
              "<Figure size 640x480 with 1 Axes>"
            ],
            "image/png": "[encoded data removed]"
          },
          "metadata": {}
        }
      ]
    },
    {
      "cell_type": "markdown",
      "source": [
        "## CNN Architecture\n",
        "A common architecture for a CNN is a stack of **Conv2D** and **MaxPooling2D** layers **followed by a few denesly connected layers.** To idea is that the stack of convolutional and maxPooling layers extract the features from the image. Then these features are flattened and fed to densly connected layers that determine the class of an image based on the presence of features.\n",
        "\n",
        "We will start by building the **Convolutional Base**."
      ],
      "metadata": {
        "id": "J1zyY28sdjN8"
      }
    },
    {
      "cell_type": "code",
      "source": [
        "model = tf.keras.Sequential([\n",
        "  layers.Conv2D(32, (3,3), activation='relu', input_shape=(32, 32, 3)),  # 32 filters (3x3)\n",
        "  layers.MaxPooling2D((2,2)),\n",
        "  layers.Conv2D(64, (3,3), activation='relu'), # 64 filters (3x3)\n",
        "  layers.MaxPooling2D((2,2)),\n",
        "  layers.Conv2D(64, (3,3), activation='relu'),  # 64 filters (3x3)\n",
        "  layers.MaxPooling2D((2,2))\n",
        "])"
      ],
      "metadata": {
        "id": "bE9Dde6FdW5K"
      },
      "execution_count": 32,
      "outputs": []
    },
    {
      "cell_type": "code",
      "source": [
        "model.summary()"
      ],
      "metadata": {
        "colab": {
          "base_uri": "https://localhost:8080/"
        },
        "id": "P7otLDTPU8gq",
        "outputId": "4c987a3b-5c5a-4126-a9f0-def17639a4cd"
      },
      "execution_count": 33,
      "outputs": [
        {
          "output_type": "stream",
          "name": "stdout",
          "text": [
            "Model: \"sequential_5\"\n",
            "_________________________________________________________________\n",
            " Layer (type)                Output Shape              Param #   \n",
            "=================================================================\n",
            " conv2d_3 (Conv2D)           (None, 30, 30, 32)        896       \n",
            "                                                                 \n",
            " max_pooling2d_2 (MaxPooling  (None, 15, 15, 32)       0         \n",
            " 2D)                                                             \n",
            "                                                                 \n",
            " conv2d_4 (Conv2D)           (None, 13, 13, 64)        18496     \n",
            "                                                                 \n",
            " max_pooling2d_3 (MaxPooling  (None, 6, 6, 64)         0         \n",
            " 2D)                                                             \n",
            "                                                                 \n",
            " conv2d_5 (Conv2D)           (None, 4, 4, 64)          36928     \n",
            "                                                                 \n",
            " max_pooling2d_4 (MaxPooling  (None, 2, 2, 64)         0         \n",
            " 2D)                                                             \n",
            "                                                                 \n",
            "=================================================================\n",
            "Total params: 56,320\n",
            "Trainable params: 56,320\n",
            "Non-trainable params: 0\n",
            "_________________________________________________________________\n"
          ]
        }
      ]
    },
    {
      "cell_type": "markdown",
      "source": [
        "## Add dense layers"
      ],
      "metadata": {
        "id": "wdDVqlA9VUI7"
      }
    },
    {
      "cell_type": "code",
      "source": [
        "model.add(layers.Flatten())\n",
        "model.add(layers.Dense(64, activation='relu'))\n",
        "model.add(layers.Dense(10))    # output layer"
      ],
      "metadata": {
        "id": "RqQdXKxbVCM_"
      },
      "execution_count": 34,
      "outputs": []
    },
    {
      "cell_type": "code",
      "source": [
        "model.summary()"
      ],
      "metadata": {
        "colab": {
          "base_uri": "https://localhost:8080/"
        },
        "id": "659llbecV9AH",
        "outputId": "5e1ed1ed-d834-4ba9-f6e0-8586bce3dbce"
      },
      "execution_count": 35,
      "outputs": [
        {
          "output_type": "stream",
          "name": "stdout",
          "text": [
            "Model: \"sequential_5\"\n",
            "_________________________________________________________________\n",
            " Layer (type)                Output Shape              Param #   \n",
            "=================================================================\n",
            " conv2d_3 (Conv2D)           (None, 30, 30, 32)        896       \n",
            "                                                                 \n",
            " max_pooling2d_2 (MaxPooling  (None, 15, 15, 32)       0         \n",
            " 2D)                                                             \n",
            "                                                                 \n",
            " conv2d_4 (Conv2D)           (None, 13, 13, 64)        18496     \n",
            "                                                                 \n",
            " max_pooling2d_3 (MaxPooling  (None, 6, 6, 64)         0         \n",
            " 2D)                                                             \n",
            "                                                                 \n",
            " conv2d_5 (Conv2D)           (None, 4, 4, 64)          36928     \n",
            "                                                                 \n",
            " max_pooling2d_4 (MaxPooling  (None, 2, 2, 64)         0         \n",
            " 2D)                                                             \n",
            "                                                                 \n",
            " flatten (Flatten)           (None, 256)               0         \n",
            "                                                                 \n",
            " dense (Dense)               (None, 64)                16448     \n",
            "                                                                 \n",
            " dense_1 (Dense)             (None, 10)                650       \n",
            "                                                                 \n",
            "=================================================================\n",
            "Total params: 73,418\n",
            "Trainable params: 73,418\n",
            "Non-trainable params: 0\n",
            "_________________________________________________________________\n"
          ]
        }
      ]
    },
    {
      "cell_type": "markdown",
      "source": [
        "## Training"
      ],
      "metadata": {
        "id": "Coxi20MNWFnN"
      }
    },
    {
      "cell_type": "code",
      "source": [
        "def plot_history(history):\n",
        "  fig, (ax1, ax2) = plt.subplots(1,2, figsize=(12,5))\n",
        "  ax1.plot(history.history['loss'], label='loss')\n",
        "  ax1.plot(history.history['val_loss'], label='val loss')\n",
        "  ax1.set_xlabel('Epoch')\n",
        "  ax1.set_ylabel('Cross Entropy')\n",
        "  ax1.grid(True)\n",
        "\n",
        "  ax2.plot(history.history['accuracy'], label='accuracy')\n",
        "  ax2.plot(history.history['val_accuracy'], label='val accuracy')\n",
        "  ax2.set_xlabel('Epoch')\n",
        "  ax2.set_ylabel('Accuracy')\n",
        "  ax2.grid(True)\n",
        "\n",
        "  plt.show()"
      ],
      "metadata": {
        "id": "sbwI5uBXl5CE"
      },
      "execution_count": 31,
      "outputs": []
    },
    {
      "cell_type": "code",
      "source": [
        "model.compile(optimizer='adam',\n",
        "              loss=tf.keras.losses.SparseCategoricalCrossentropy(from_logits=True),\n",
        "              metrics = ['accuracy'])\n",
        "\n",
        "history = model.fit(train_images, train_labels, epochs=10,\n",
        "                    validation_data=(test_images, test_labels))"
      ],
      "metadata": {
        "colab": {
          "base_uri": "https://localhost:8080/"
        },
        "id": "2B-vjZGwV_Tg",
        "outputId": "156392e1-7dd5-4aff-de34-3f329f48f855"
      },
      "execution_count": 38,
      "outputs": [
        {
          "output_type": "stream",
          "name": "stdout",
          "text": [
            "Epoch 1/10\n",
            "1563/1563 [==============================] - 100s 63ms/step - loss: 1.5351 - accuracy: 0.4385 - val_loss: 1.2565 - val_accuracy: 0.5488\n",
            "Epoch 2/10\n",
            "1563/1563 [==============================] - 77s 49ms/step - loss: 1.1896 - accuracy: 0.5795 - val_loss: 1.1169 - val_accuracy: 0.6042\n",
            "Epoch 3/10\n",
            "1563/1563 [==============================] - 79s 50ms/step - loss: 1.0497 - accuracy: 0.6318 - val_loss: 1.1066 - val_accuracy: 0.6118\n",
            "Epoch 4/10\n",
            "1563/1563 [==============================] - 94s 60ms/step - loss: 0.9533 - accuracy: 0.6652 - val_loss: 0.9949 - val_accuracy: 0.6533\n",
            "Epoch 5/10\n",
            "1563/1563 [==============================] - 77s 49ms/step - loss: 0.8846 - accuracy: 0.6897 - val_loss: 0.9939 - val_accuracy: 0.6574\n",
            "Epoch 6/10\n",
            "1563/1563 [==============================] - 80s 51ms/step - loss: 0.8242 - accuracy: 0.7123 - val_loss: 0.8916 - val_accuracy: 0.6896\n",
            "Epoch 7/10\n",
            "1563/1563 [==============================] - 79s 51ms/step - loss: 0.7779 - accuracy: 0.7275 - val_loss: 0.9261 - val_accuracy: 0.6809\n",
            "Epoch 8/10\n",
            "1563/1563 [==============================] - 78s 50ms/step - loss: 0.7382 - accuracy: 0.7416 - val_loss: 0.9297 - val_accuracy: 0.6844\n",
            "Epoch 9/10\n",
            "1563/1563 [==============================] - 78s 50ms/step - loss: 0.7010 - accuracy: 0.7538 - val_loss: 0.8564 - val_accuracy: 0.7092\n",
            "Epoch 10/10\n",
            "1563/1563 [==============================] - 78s 50ms/step - loss: 0.6629 - accuracy: 0.7672 - val_loss: 0.8946 - val_accuracy: 0.6961\n"
          ]
        }
      ]
    },
    {
      "cell_type": "code",
      "source": [
        "plot_history(history)"
      ],
      "metadata": {
        "colab": {
          "base_uri": "https://localhost:8080/",
          "height": 465
        },
        "id": "v1Hk9WQan8mF",
        "outputId": "8894e7d7-ec19-43b8-ef10-445493a2e7ab"
      },
      "execution_count": 43,
      "outputs": [
        {
          "output_type": "display_data",
          "data": {
            "text/plain": [
              "<Figure size 1200x500 with 2 Axes>"
            ],
            "image/png": "[encoded data removed]"
          },
          "metadata": {}
        }
      ]
    },
    {
      "cell_type": "markdown",
      "source": [
        "## Evaluating the model"
      ],
      "metadata": {
        "id": "AsYt7DtIogAn"
      }
    },
    {
      "cell_type": "code",
      "source": [
        "test_loss, test_acc = model.evaluate(test_images, test_labels, verbose=2)\n",
        "print(test_acc)"
      ],
      "metadata": {
        "colab": {
          "base_uri": "https://localhost:8080/"
        },
        "id": "Vd6F6Sf9oioY",
        "outputId": "cbe02de3-d46a-4c27-9140-9e818403d7b1"
      },
      "execution_count": 44,
      "outputs": [
        {
          "output_type": "stream",
          "name": "stdout",
          "text": [
            "313/313 - 4s - loss: 0.8946 - accuracy: 0.6961 - 4s/epoch - 12ms/step\n",
            "0.6960999965667725\n"
          ]
        }
      ]
    },
    {
      "cell_type": "markdown",
      "source": [
        "## Data Augmentation"
      ],
      "metadata": {
        "id": "7ECFsiLxkd1T"
      }
    },
    {
      "cell_type": "code",
      "source": [
        "data_augmentation = tf.keras.Sequential([\n",
        "    layers.RandomFlip(\"horizontal_and_vertical\"),\n",
        "    layers.RandomRotation(0.2),\n",
        "    layers.RandomRotation(factor=(-0.2, 0.2), fill_mode='nearest')\n",
        "])"
      ],
      "metadata": {
        "id": "helvMFJcddMx"
      },
      "execution_count": 24,
      "outputs": []
    },
    {
      "cell_type": "code",
      "source": [
        "plt.figure(figsize=(10,10))\n",
        "my_img = tf.cast(tf.expand_dims(train_images[7], 0), tf.float32)  # make the image to a batch\n",
        "\n",
        "# Plot original image\n",
        "ax = plt.subplot(3, 3, 1)\n",
        "plt.imshow(my_img[0])\n",
        "plt.title('original')\n",
        "plt.axis('off')\n",
        "\n",
        "for i in range(2, 10):\n",
        "  augmented_image = data_augmentation(my_img)\n",
        "  ax = plt.subplot(3, 3, i)\n",
        "  plt.imshow(augmented_image[0])\n",
        "  plt.axis(\"off\")\n",
        "\n"
      ],
      "metadata": {
        "id": "pFp-TN9LgRue"
      },
      "execution_count": null,
      "outputs": []
    },
    {
      "cell_type": "markdown",
      "source": [
        "## Using a Pretrained Model"
      ],
      "metadata": {
        "id": "aBv4vGCHpbQW"
      }
    },
    {
      "cell_type": "code",
      "source": [
        "import os\n",
        "import numpy as np\n",
        "import matplotlib.pyplot as plt\n",
        "import tensorflow as tf\n",
        "from tensorflow.keras import layers"
      ],
      "metadata": {
        "id": "DtUD3BiYcJ20"
      },
      "execution_count": 10,
      "outputs": []
    },
    {
      "cell_type": "code",
      "source": [
        "import tensorflow_datasets as tfds\n",
        "tfds.disable_progress_bar()\n",
        "\n",
        "(raw_train, raw_validation, raw_test), metadata = tfds.load(\n",
        "    'cats_vs_dogs',\n",
        "    split=['train[:80%]', 'train[80%:90%]', 'train[90%:]'],\n",
        "    with_info=True,\n",
        "    as_supervised=True\n",
        ")"
      ],
      "metadata": {
        "colab": {
          "base_uri": "https://localhost:8080/"
        },
        "id": "KEK9ul9ztfwF",
        "outputId": "713588fa-d646-4218-fddd-f7bb6a433daa"
      },
      "execution_count": 3,
      "outputs": [
        {
          "output_type": "stream",
          "name": "stdout",
          "text": [
            "Downloading and preparing dataset Unknown size (download: Unknown size, generated: Unknown size, total: Unknown size) to /root/tensorflow_datasets/cats_vs_dogs/4.0.0...\n"
          ]
        },
        {
          "output_type": "stream",
          "name": "stderr",
          "text": [
            "WARNING:absl:1738 images were corrupted and were skipped\n"
          ]
        },
        {
          "output_type": "stream",
          "name": "stdout",
          "text": [
            "Dataset cats_vs_dogs downloaded and prepared to /root/tensorflow_datasets/cats_vs_dogs/4.0.0. Subsequent calls will reuse this data.\n"
          ]
        }
      ]
    },
    {
      "cell_type": "code",
      "source": [
        "# Create a function object that we can use to get labels\n",
        "get_label_name = metadata.features['label'].int2str\n",
        "\n",
        "# Display 5 images from the dataset\n",
        "for image, label in raw_train.take(5):\n",
        "  plt.figure()\n",
        "  plt.imshow(image)\n",
        "  plt.title(get_label_name(label))"
      ],
      "metadata": {
        "id": "QUnG0CG7t39W"
      },
      "execution_count": null,
      "outputs": []
    },
    {
      "cell_type": "markdown",
      "source": [
        "### Data Preprocessing"
      ],
      "metadata": {
        "id": "yE_948tlum83"
      }
    },
    {
      "cell_type": "code",
      "source": [
        "IMG_SIZE = 160  # Resize all images\n",
        "\n",
        "def prepare(ds):\n",
        "  resize_and_rescale = tf.keras.Sequential([\n",
        "      layers.Rescaling(1./127.5, offset=-1),   #[-1, 1]\n",
        "      layers.Resizing(IMG_SIZE, IMG_SIZE)\n",
        "  ])\n",
        "\n",
        "  ds = ds.map(lambda x, y: (resize_and_rescale(tf.cast(x, tf.float32)), y))\n",
        "  return ds"
      ],
      "metadata": {
        "id": "lM7sn4dDuWvA"
      },
      "execution_count": 7,
      "outputs": []
    },
    {
      "cell_type": "code",
      "source": [
        "train = prepare(raw_train)\n",
        "validation = prepare(raw_validation)\n",
        "test = prepare(raw_test)"
      ],
      "metadata": {
        "id": "vekps4KAwJzK"
      },
      "execution_count": 11,
      "outputs": []
    },
    {
      "cell_type": "code",
      "source": [
        "# Or we can also define it manually\n",
        "\"\"\"\n",
        "IMG_SIZE = 160  # Resize all images\n",
        "\n",
        "def format_example(image, label):\n",
        "  \n",
        "  # returns an image that is reshaped to IMG_SIZE\n",
        "  \n",
        "  image = tf.cast(image, tf.float32)\n",
        "  image = (image/127.5) - 1\n",
        "  image = tf.image.resize(image, (IMG_SIZE, IMG_SIZE))\n",
        "  return image, label\n",
        "\n",
        "train = raw_train.map(format_example)\n",
        "validation = raw_validation.map(format_example)\n",
        "test = raw_test.map(format_example)\"\"\""
      ],
      "metadata": {
        "id": "I5SaqYd9zzyf"
      },
      "execution_count": null,
      "outputs": []
    },
    {
      "cell_type": "code",
      "source": [
        "# have a look at images\n",
        "for image, label in train.take(2):\n",
        "  plt.figure()\n",
        "  plt.imshow(image)\n",
        "  plt.title(get_label_name(label))"
      ],
      "metadata": {
        "id": "gn2gteXwyY2m"
      },
      "execution_count": null,
      "outputs": []
    },
    {
      "cell_type": "markdown",
      "source": [
        "### Shuffle and batch the images"
      ],
      "metadata": {
        "id": "2zkGYl3Z290n"
      }
    },
    {
      "cell_type": "code",
      "source": [
        "# Shuffle the image\n",
        "BATCH_SIZE = 32\n",
        "SHUFFLE_BUFFER_SIZE = 1000\n",
        "\n",
        "train_batches = train.shuffle(SHUFFLE_BUFFER_SIZE).batch(BATCH_SIZE)\n",
        "validation_batches = validation.batch(BATCH_SIZE)\n",
        "test_batches = test.batch(BATCH_SIZE)"
      ],
      "metadata": {
        "id": "KN-oxA-V19y5"
      },
      "execution_count": 13,
      "outputs": []
    },
    {
      "cell_type": "markdown",
      "source": [
        "Look at the shape of original image vs. new image."
      ],
      "metadata": {
        "id": "HFOJXqDV3Ocs"
      }
    },
    {
      "cell_type": "code",
      "source": [
        "for img, label in raw_train.take(2):\n",
        "  print(\"Original shape:\", img.shape)\n",
        "\n",
        "for img, label in train.take(2):\n",
        "  print(\"New shape:\", img.shape)"
      ],
      "metadata": {
        "colab": {
          "base_uri": "https://localhost:8080/"
        },
        "id": "N56xHx223Ekg",
        "outputId": "99c2816a-77a7-4172-e674-8ff78e6fe6bc"
      },
      "execution_count": 14,
      "outputs": [
        {
          "output_type": "stream",
          "name": "stdout",
          "text": [
            "Original shape: (262, 350, 3)\n",
            "Original shape: (409, 336, 3)\n",
            "New shape: (160, 160, 3)\n",
            "New shape: (160, 160, 3)\n"
          ]
        }
      ]
    },
    {
      "cell_type": "markdown",
      "source": [
        "### Picking a pretrained model\n",
        "\n",
        "The model we are going to use as the convolutional base for our model is the **MobileNet V2** developed at Google. This model is trained on 1.4 million images and has 1000 different classes.\n",
        "\n",
        "We want to use this model but only its convolutional base. So, when we load in the model, we'll specify that we don't want to load the top (classification) layer. We'll tell the model what input shape to expect and to use the predetermined weights from *imagenet* (Googles dataset).\n"
      ],
      "metadata": {
        "id": "2DJQD76X3iIR"
      }
    },
    {
      "cell_type": "code",
      "source": [
        "IMG_SHAPE = (IMG_SIZE, IMG_SIZE, 3)\n",
        "\n",
        "# Create the base model from the pre-trained model MobileNet V2\n",
        "base_model = tf.keras.applications.MobileNetV2(input_shape=IMG_SHAPE,\n",
        "                                               include_top=False,       # Whether to include the final classifiacation layers\n",
        "                                               weights='imagenet')      # weight initialization (from weights pretrained on ImageNet)"
      ],
      "metadata": {
        "colab": {
          "base_uri": "https://localhost:8080/"
        },
        "id": "d_vBNtCA3MYV",
        "outputId": "bdcf4442-ee09-4536-b572-e65e2a55c257"
      },
      "execution_count": 15,
      "outputs": [
        {
          "output_type": "stream",
          "name": "stdout",
          "text": [
            "Downloading data from https://storage.googleapis.com/tensorflow/keras-applications/mobilenet_v2/mobilenet_v2_weights_tf_dim_ordering_tf_kernels_1.0_160_no_top.h5\n",
            "9406464/9406464 [==============================] - 0s 0us/step\n"
          ]
        }
      ]
    },
    {
      "cell_type": "code",
      "source": [
        "base_model.summary()"
      ],
      "metadata": {
        "id": "zvspiAID4o4c"
      },
      "execution_count": null,
      "outputs": []
    },
    {
      "cell_type": "markdown",
      "source": [
        "The base_model will simply output a shape (32, 5, 5 1280) tensor that is a feature extraction from our original (1, 160, 160, 3) image. \n",
        "32 means we have 32 filters."
      ],
      "metadata": {
        "id": "AnTVMGK0dowf"
      }
    },
    {
      "cell_type": "code",
      "source": [
        "for image, _ in train_batches.take(1):\n",
        "  pass\n",
        "\n",
        "feature_batch = base_model(image)\n",
        "print(feature_batch.shape)"
      ],
      "metadata": {
        "colab": {
          "base_uri": "https://localhost:8080/"
        },
        "id": "oKq7dogC4qMQ",
        "outputId": "3744ffea-fef6-4737-cb4e-0e3b85941a1f"
      },
      "execution_count": 17,
      "outputs": [
        {
          "output_type": "stream",
          "name": "stdout",
          "text": [
            "(32, 5, 5, 1280)\n"
          ]
        }
      ]
    },
    {
      "cell_type": "markdown",
      "source": [
        "### Freezing the base"
      ],
      "metadata": {
        "id": "crun6NC9eDLV"
      }
    },
    {
      "cell_type": "code",
      "source": [
        "base_model.trainable=False\n",
        "base_model.summary()"
      ],
      "metadata": {
        "id": "wtZH_a2geFHB"
      },
      "execution_count": null,
      "outputs": []
    },
    {
      "cell_type": "markdown",
      "source": [
        "### Add classifier"
      ],
      "metadata": {
        "id": "1pMYHHrpePyf"
      }
    },
    {
      "cell_type": "markdown",
      "source": [
        "Average the entire 5x5 area of each 2D feature map, and return a 1280 element vector per filter."
      ],
      "metadata": {
        "id": "DDUnlGWoeh7H"
      }
    },
    {
      "cell_type": "code",
      "source": [
        "global_average_layer = tf.keras.layers.GlobalAveragePooling2D()"
      ],
      "metadata": {
        "id": "hXRnEbP8eSPk"
      },
      "execution_count": 21,
      "outputs": []
    },
    {
      "cell_type": "code",
      "source": [
        "# One single neuron for binary classification\n",
        "prediction_layer = tf.keras.layers.Dense(1)"
      ],
      "metadata": {
        "id": "n75lgVlqerDF"
      },
      "execution_count": 22,
      "outputs": []
    },
    {
      "cell_type": "code",
      "source": [
        "# Combine together\n",
        "model = tf.keras.Sequential([\n",
        "    base_model,\n",
        "    global_average_layer,\n",
        "    prediction_layer\n",
        "])"
      ],
      "metadata": {
        "id": "ECWWSTPReuRK"
      },
      "execution_count": 23,
      "outputs": []
    },
    {
      "cell_type": "code",
      "source": [
        "model.summary()"
      ],
      "metadata": {
        "colab": {
          "base_uri": "https://localhost:8080/"
        },
        "id": "10Z4f0Mae7su",
        "outputId": "defe541b-a722-41d9-d735-855d8d69e8a1"
      },
      "execution_count": 24,
      "outputs": [
        {
          "output_type": "stream",
          "name": "stdout",
          "text": [
            "Model: \"sequential_3\"\n",
            "_________________________________________________________________\n",
            " Layer (type)                Output Shape              Param #   \n",
            "=================================================================\n",
            " mobilenetv2_1.00_160 (Funct  (None, 5, 5, 1280)       2257984   \n",
            " ional)                                                          \n",
            "                                                                 \n",
            " global_average_pooling2d (G  (None, 1280)             0         \n",
            " lobalAveragePooling2D)                                          \n",
            "                                                                 \n",
            " dense (Dense)               (None, 1)                 1281      \n",
            "                                                                 \n",
            "=================================================================\n",
            "Total params: 2,259,265\n",
            "Trainable params: 1,281\n",
            "Non-trainable params: 2,257,984\n",
            "_________________________________________________________________\n"
          ]
        }
      ]
    },
    {
      "cell_type": "markdown",
      "source": [
        "### Training\n",
        "Same as before. First compile, then fit to the training dataset.\n",
        "\n",
        "optimizer: tf.keras.optimizers.RMSProp\n",
        "loss: binary cross entropy (for binary classification)"
      ],
      "metadata": {
        "id": "iBw12i2rf9Wv"
      }
    },
    {
      "cell_type": "code",
      "source": [
        "base_learning_rate = 0.0001\n",
        "model.compile(optimizer=tf.keras.optimizers.RMSprop(learning_rate=base_learning_rate),\n",
        "              loss=tf.keras.losses.BinaryCrossentropy(from_logits=True),\n",
        "              metrics=['accuracy'])"
      ],
      "metadata": {
        "id": "NFa3TB6ef873"
      },
      "execution_count": 26,
      "outputs": []
    },
    {
      "cell_type": "code",
      "source": [
        "# Evaluate the model, before training\n",
        "validation_steps=20\n",
        "\n",
        "loss0, accuracy0 = model.evaluate(validation_batches, steps=validation_steps)"
      ],
      "metadata": {
        "colab": {
          "base_uri": "https://localhost:8080/"
        },
        "id": "E-m6NBplgIYG",
        "outputId": "0dc2fe3e-ca05-4454-81d7-066a7f9b97b6"
      },
      "execution_count": 27,
      "outputs": [
        {
          "output_type": "stream",
          "name": "stdout",
          "text": [
            "20/20 [==============================] - 12s 522ms/step - loss: 1.0125 - accuracy: 0.4719\n"
          ]
        }
      ]
    },
    {
      "cell_type": "code",
      "source": [
        "# Train on our images\n",
        "initial_epochs = 3\n",
        "history = model.fit(train_batches,\n",
        "                    epochs = initial_epochs,\n",
        "                    validation_data=validation_batches)\n"
      ],
      "metadata": {
        "colab": {
          "base_uri": "https://localhost:8080/"
        },
        "id": "BFiI5B1Cgo8e",
        "outputId": "e531d384-070e-4a2f-d55f-22cad2cc2a24"
      },
      "execution_count": 29,
      "outputs": [
        {
          "output_type": "stream",
          "name": "stdout",
          "text": [
            "Epoch 1/3\n",
            "582/582 [==============================] - 327s 555ms/step - loss: 0.2432 - accuracy: 0.8810 - val_loss: 0.0951 - val_accuracy: 0.9652\n",
            "Epoch 2/3\n",
            "582/582 [==============================] - 312s 534ms/step - loss: 0.0768 - accuracy: 0.9729 - val_loss: 0.0645 - val_accuracy: 0.9751\n",
            "Epoch 3/3\n",
            "582/582 [==============================] - 288s 493ms/step - loss: 0.0599 - accuracy: 0.9776 - val_loss: 0.0550 - val_accuracy: 0.9794\n"
          ]
        }
      ]
    },
    {
      "cell_type": "code",
      "source": [
        "plot_history(history)"
      ],
      "metadata": {
        "colab": {
          "base_uri": "https://localhost:8080/",
          "height": 466
        },
        "id": "kMf5qcOag7EY",
        "outputId": "965ea9f2-bd5e-4894-ae84-d09817db9137"
      },
      "execution_count": 32,
      "outputs": [
        {
          "output_type": "display_data",
          "data": {
            "text/plain": [
              "<Figure size 1200x500 with 2 Axes>"
            ],
            "image/png": "[encoded data removed]"
          },
          "metadata": {}
        }
      ]
    },
    {
      "cell_type": "code",
      "source": [
        "acc = history.history['accuracy']    # accuracy of each epoch\n",
        "print(acc)"
      ],
      "metadata": {
        "colab": {
          "base_uri": "https://localhost:8080/"
        },
        "id": "WQtGoKn-g9Nw",
        "outputId": "303a98e0-f4a1-4299-da42-18e10b008618"
      },
      "execution_count": 33,
      "outputs": [
        {
          "output_type": "stream",
          "name": "stdout",
          "text": [
            "[0.8810316920280457, 0.972864031791687, 0.9775927066802979]\n"
          ]
        }
      ]
    },
    {
      "cell_type": "markdown",
      "source": [
        "### Save model\n",
        "Save the model and reload it at anytime in the future"
      ],
      "metadata": {
        "id": "dS_nfGQWhNxH"
      }
    },
    {
      "cell_type": "code",
      "source": [
        "model.save(\"dogs_vs_cats.h5\")\n",
        "new_model = tf.keras.models.load_model('dogs_vs_cats.h5')"
      ],
      "metadata": {
        "id": "9CVOEuT1hSXV"
      },
      "execution_count": 34,
      "outputs": []
    },
    {
      "cell_type": "code",
      "source": [
        "# Test on 3 images\n",
        "for image, label in test_batches.take(1):\n",
        "  result = (new_model.predict(image) > 0).astype(int).reshape(-1)\n",
        "  print(\"Predicted: \", result)\n",
        "  print(\"True labels: \", label)\n",
        "  print(result==label)"
      ],
      "metadata": {
        "colab": {
          "base_uri": "https://localhost:8080/"
        },
        "id": "1gWBtVlOhtqc",
        "outputId": "4f020982-f433-4779-e549-da3e01abd834"
      },
      "execution_count": 42,
      "outputs": [
        {
          "output_type": "stream",
          "name": "stdout",
          "text": [
            "1/1 [==============================] - 1s 1s/step\n",
            "Predicted:  [0 1 1 0 0 0 1 0 0 0 1 0 0 1 0 0 0 1 0 0 0 0 0 0 0 0 0 1 0 1 0 0]\n",
            "True labels:  tf.Tensor([0 1 1 0 0 0 1 0 0 0 1 0 0 1 0 0 0 1 0 0 0 0 0 0 0 0 0 1 0 1 0 0], shape=(32,), dtype=int64)\n",
            "tf.Tensor(\n",
            "[ True  True  True  True  True  True  True  True  True  True  True  True\n",
            "  True  True  True  True  True  True  True  True  True  True  True  True\n",
            "  True  True  True  True  True  True  True  True], shape=(32,), dtype=bool)\n"
          ]
        }
      ]
    },
    {
      "cell_type": "code",
      "source": [],
      "metadata": {
        "id": "-Z5PRJVyll0j"
      },
      "execution_count": null,
      "outputs": []
    }
  ]
}